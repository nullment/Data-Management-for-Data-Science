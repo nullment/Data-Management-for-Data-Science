{
 "cells": [
  {
   "cell_type": "markdown",
   "id": "afcf27eb",
   "metadata": {
    "deletable": false,
    "editable": false,
    "tags": []
   },
   "source": [
    "### CS 210: Data Management for Data Science\n",
    "#### Fall 2023"
   ]
  },
  {
   "cell_type": "markdown",
   "id": "9273b1ba",
   "metadata": {
    "deletable": false,
    "editable": false,
    "tags": []
   },
   "source": [
    "Before you turn this problem in, make sure everything runs as expected. First, **restart the kernel** (in the menubar, select Kernel$\\rightarrow$Restart) and then **run all cells** (in the menubar, select Cell$\\rightarrow$Run All).\n",
    "\n",
    "Make sure you fill in any place that says `YOUR CODE HERE` or \"YOUR ANSWER HERE\", as well as your name and collaborators below:"
   ]
  },
  {
   "cell_type": "code",
   "execution_count": null,
   "id": "3b18af11",
   "metadata": {
    "deletable": false,
    "tags": []
   },
   "outputs": [],
   "source": [
    "NAME = \"Shivam Patel\"\n",
    "COLLABORATORS = \"\""
   ]
  },
  {
   "cell_type": "markdown",
   "id": "be0bfa49",
   "metadata": {},
   "source": [
    "---"
   ]
  },
  {
   "cell_type": "markdown",
   "id": "37da66ee-a957-49e7-bd80-c1a39743a344",
   "metadata": {
    "deletable": false,
    "editable": false,
    "nbgrader": {
     "checksum": "535c21960d4663d5edac398cb445d087",
     "grade": false,
     "grade_id": "jupyter",
     "locked": true,
     "schema_version": 3,
     "solution": false
    }
   },
   "source": [
    "For this problem set, we'll be using the Jupyter notebook:\n",
    "\n",
    "![](jupyter.png)"
   ]
  },
  {
   "cell_type": "markdown",
   "id": "aaf644ad-24b3-4765-96ac-c69407a6044e",
   "metadata": {
    "deletable": false,
    "editable": false,
    "nbgrader": {
     "checksum": "ca36d16d09cf9905981442d954015f74",
     "grade": false,
     "grade_id": "problem-3-header",
     "locked": true,
     "schema_version": 3,
     "solution": false,
     "task": false
    },
    "tags": []
   },
   "source": [
    "---\n",
    "## 3. `increasing_digits` (20 points)\n",
    "\n",
    "Write a function called `increasing_digits` to count all integers from 1 to $n$ (inclusive) that have all \n",
    "digits in increasing order, where $n$ is given as a parameter. For example, \n",
    "\n",
    "* $5$ is in increasing order (single digit)\n",
    "* $237$ is in increasing order ($2<3<7$)\n",
    "* $227$ is not ($2 \\nless 2$)\n",
    "* $427$ is not ($4 \\nless 2$)\n",
    "\n",
    "```\n",
    "[In]: increasing_digits(30)\n",
    "[Out]: 24\n",
    "```\n"
   ]
  },
  {
   "cell_type": "code",
   "execution_count": 33,
   "id": "45671c22-4e0d-4eac-b44c-d6368fb3382e",
   "metadata": {
    "deletable": false,
    "nbgrader": {
     "checksum": "176b642abd4cb544f86c36f08b5d3401",
     "grade": false,
     "grade_id": "problem-3",
     "locked": false,
     "schema_version": 3,
     "solution": true,
     "task": false
    },
    "tags": []
   },
   "outputs": [],
   "source": [
    "def increasing_digits(n):\n",
    "    \"\"\" Returns the number of integers from 1 to $n$ (inclusive) \n",
    "    that have all digits in increasing order, where $n$ is\n",
    "    given as a parameter. \n",
    "    \"\"\"\n",
    "    # YOUR CODE HERE\n",
    "    counter = 0\n",
    "    function = 9\n",
    "    \n",
    "    for i in range(1, n+1): # Iterate through all integers from 1 to n (inclusive)\n",
    "        num = str(i)\n",
    "        inc = True\n",
    "        \n",
    "        for j in range (1, len(num)):\n",
    "            if (num[j] <= num[j-1]):\n",
    "                inc = False\n",
    "                break\n",
    "                \n",
    "        if inc:\n",
    "            counter += 1\n",
    "            \n",
    "    return counter\n",
    "        \n",
    "    #raise NotImplementedError()"
   ]
  },
  {
   "cell_type": "markdown",
   "id": "c9222def-6e1a-44b4-b146-2443a4ef5138",
   "metadata": {
    "deletable": false,
    "editable": false,
    "nbgrader": {
     "checksum": "537863abf9c641d1b5e481f8afb4c4ac",
     "grade": false,
     "grade_id": "problem-3-check",
     "locked": true,
     "schema_version": 3,
     "solution": false,
     "task": false
    },
    "tags": []
   },
   "source": [
    "Your function should return `9` for $n=10$. Check that it does: "
   ]
  },
  {
   "cell_type": "code",
   "execution_count": 35,
   "id": "470f926b-8d65-4a2c-95e5-e53dd1829780",
   "metadata": {
    "tags": []
   },
   "outputs": [
    {
     "data": {
      "text/plain": [
       "9"
      ]
     },
     "execution_count": 35,
     "metadata": {},
     "output_type": "execute_result"
    }
   ],
   "source": [
    "increasing_digits(10)"
   ]
  },
  {
   "cell_type": "code",
   "execution_count": 31,
   "id": "50697d35-ae13-4f48-80c7-33e178f3e8a3",
   "metadata": {
    "deletable": false,
    "editable": false,
    "nbgrader": {
     "checksum": "84dfcf7ea3e77f283e0095e925cf31cf",
     "grade": true,
     "grade_id": "problem-3-tests",
     "locked": true,
     "points": 20,
     "schema_version": 3,
     "solution": false,
     "task": false
    },
    "tags": []
   },
   "outputs": [],
   "source": [
    "\"\"\" Check that the increasing_digits function returns the correct output.  \"\"\"\n",
    "assert increasing_digits(5) == 5"
   ]
  },
  {
   "cell_type": "code",
   "execution_count": null,
   "id": "2f1669f9-ea3e-431c-afe0-4c007a217a5c",
   "metadata": {},
   "outputs": [],
   "source": []
  },
  {
   "cell_type": "markdown",
   "id": "57be2daf-ab68-4603-99ca-762a271081f4",
   "metadata": {},
   "source": []
  }
 ],
 "metadata": {
  "kernelspec": {
   "display_name": "Python 3 (ipykernel)",
   "language": "python",
   "name": "python3"
  },
  "language_info": {
   "codemirror_mode": {
    "name": "ipython",
    "version": 3
   },
   "file_extension": ".py",
   "mimetype": "text/x-python",
   "name": "python",
   "nbconvert_exporter": "python",
   "pygments_lexer": "ipython3",
   "version": "3.11.3"
  }
 },
 "nbformat": 4,
 "nbformat_minor": 5
}
