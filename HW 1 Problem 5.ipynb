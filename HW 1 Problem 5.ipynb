{
 "cells": [
  {
   "cell_type": "markdown",
   "id": "3e090788",
   "metadata": {
    "deletable": false,
    "editable": false,
    "tags": []
   },
   "source": [
    "### CS 210: Data Management for Data Science\n",
    "#### Fall 2023"
   ]
  },
  {
   "cell_type": "markdown",
   "id": "afb18f42",
   "metadata": {
    "deletable": false,
    "editable": false,
    "tags": []
   },
   "source": [
    "Before you turn this problem in, make sure everything runs as expected. First, **restart the kernel** (in the menubar, select Kernel$\\rightarrow$Restart) and then **run all cells** (in the menubar, select Cell$\\rightarrow$Run All).\n",
    "\n",
    "Make sure you fill in any place that says `YOUR CODE HERE` or \"YOUR ANSWER HERE\", as well as your name and collaborators below:"
   ]
  },
  {
   "cell_type": "code",
   "execution_count": null,
   "id": "1da89d95",
   "metadata": {
    "deletable": false,
    "tags": []
   },
   "outputs": [],
   "source": [
    "NAME = \"Shivam Patel\"\n",
    "COLLABORATORS = \"\""
   ]
  },
  {
   "cell_type": "markdown",
   "id": "002bf369",
   "metadata": {},
   "source": [
    "---"
   ]
  },
  {
   "cell_type": "markdown",
   "id": "37da66ee-a957-49e7-bd80-c1a39743a344",
   "metadata": {
    "deletable": false,
    "editable": false,
    "nbgrader": {
     "cell_type": "markdown",
     "checksum": "535c21960d4663d5edac398cb445d087",
     "grade": false,
     "grade_id": "jupyter",
     "locked": true,
     "schema_version": 3,
     "solution": false
    }
   },
   "source": [
    "For this problem set, we'll be using the Jupyter notebook:\n",
    "\n",
    "![](jupyter.png)"
   ]
  },
  {
   "cell_type": "markdown",
   "id": "aaf644ad-24b3-4765-96ac-c69407a6044e",
   "metadata": {
    "deletable": false,
    "editable": false,
    "nbgrader": {
     "cell_type": "markdown",
     "checksum": "cfe2d3764bcdde0bebb934ec481d53f7",
     "grade": false,
     "grade_id": "problem-5-header",
     "locked": true,
     "schema_version": 3,
     "solution": false,
     "task": false
    },
    "tags": []
   },
   "source": [
    "---\n",
    "## 5. `zero_triples` (30 points)\n",
    "\n",
    "Write a function called `zero_triples` to return all triples in a list of integers that sum to zero. You can assume the list won't contain any duplicates, and a triple should not use the same number more than once. \n",
    "\n",
    "```\n",
    "[In]: zero_triples([1, 2, 4])\n",
    "[Out]: []\n",
    "\n",
    "[In]: zero_triples([-3, 1, 4, 2])\n",
    "[Out]: [[1, 2, -3]]\n",
    "\n",
    "[In]: zero_triples([-9, 1, -3, 2, 4, 5, -4, -1])\n",
    "[Out]: [[-9, 4, 5], [1, -3, 2], [-3, 4, -1], [5, -4, -1]]\n",
    "```\n"
   ]
  },
  {
   "cell_type": "code",
   "execution_count": 18,
   "id": "45671c22-4e0d-4eac-b44c-d6368fb3382e",
   "metadata": {
    "deletable": false,
    "nbgrader": {
     "cell_type": "code",
     "checksum": "1a3e0c9359fbc2b2c716a343324be4dc",
     "grade": false,
     "grade_id": "problem-5",
     "locked": false,
     "schema_version": 3,
     "solution": true,
     "task": false
    },
    "tags": []
   },
   "outputs": [],
   "source": [
    "def zero_triples(ints):\n",
    "    \"\"\" \n",
    "    Returns all triples in a list of integers that sum to zero. \n",
    "    The list of integers is given as a parameter. \n",
    "    Assumes the list will not contain any duplicates, and a triple \n",
    "    should not use the same number more than once.\n",
    "    \"\"\"\n",
    "    # YOUR CODE HERE\n",
    "    list = []\n",
    "    ints = sorted(ints)\n",
    "    n = len(ints)\n",
    "    \n",
    "    for i in range(n-2):\n",
    "        if ints[i] == ints[i-1]:\n",
    "            continue\n",
    "            \n",
    "        first, third = i +1, n-1\n",
    "\n",
    "                                     \n",
    "        while first < third:\n",
    "            sumation = ints[i] + ints[first] + ints[third]\n",
    "            \n",
    "            if sumation == 0:\n",
    "                list.append([ints[i], ints[first], ints[third]])\n",
    "                first += 1\n",
    "                third -= 1\n",
    "                \n",
    "                while ints[first] == ints[first - 1]:\n",
    "                    leftint += 1\n",
    "                while ints[third] == ints[third + 1]:\n",
    "                    third -= 1\n",
    "            elif sumation < 0:\n",
    "                first += 1\n",
    "            else:\n",
    "                third -= 1\n",
    "                \n",
    "                    \n",
    "    \n",
    "    return list\n",
    "    #print(list)\n",
    "    \n",
    "    #raise NotImplementedError()"
   ]
  },
  {
   "cell_type": "markdown",
   "id": "c4a8c42e-9f91-4e3c-a618-45f2180f448c",
   "metadata": {
    "deletable": false,
    "editable": false,
    "nbgrader": {
     "cell_type": "markdown",
     "checksum": "2338920ca9f481e2c4c5ca1723562d90",
     "grade": false,
     "grade_id": "problem-5-check",
     "locked": true,
     "schema_version": 3,
     "solution": false,
     "task": false
    },
    "tags": []
   },
   "source": [
    "Your function should return `[-3, 1, 2]` for `[-3, 1, 4, 2]`. Check that it does: "
   ]
  },
  {
   "cell_type": "code",
   "execution_count": 19,
   "id": "f51ed754-a116-49de-955a-f3bfd519e4b1",
   "metadata": {
    "editable": false,
    "tags": []
   },
   "outputs": [
    {
     "data": {
      "text/plain": [
       "[[-3, 1, 2]]"
      ]
     },
     "execution_count": 19,
     "metadata": {},
     "output_type": "execute_result"
    }
   ],
   "source": [
    "zero_triples([-3, 1, 4, 2])"
   ]
  },
  {
   "cell_type": "code",
   "execution_count": 20,
   "id": "50697d35-ae13-4f48-80c7-33e178f3e8a3",
   "metadata": {
    "deletable": false,
    "editable": false,
    "nbgrader": {
     "cell_type": "code",
     "checksum": "6d486ead0f83b29ed436c205c024225e",
     "grade": true,
     "grade_id": "problem-5-tests",
     "locked": true,
     "points": 30,
     "schema_version": 3,
     "solution": false,
     "task": false
    },
    "tags": []
   },
   "outputs": [],
   "source": [
    "\"\"\" Check that the stats function returns the correct output.  \"\"\"\n",
    "assert zero_triples([1, 2, 4])==[]"
   ]
  },
  {
   "cell_type": "code",
   "execution_count": null,
   "id": "b4d9f426-44a9-4d9e-9e3a-21951fc0f701",
   "metadata": {},
   "outputs": [],
   "source": []
  },
  {
   "cell_type": "code",
   "execution_count": null,
   "id": "1cd68a15-55e5-453f-a9fa-1d2fb91afc8b",
   "metadata": {},
   "outputs": [],
   "source": []
  },
  {
   "cell_type": "code",
   "execution_count": null,
   "id": "1f117fef-ff22-4f49-8284-5af8899ea36b",
   "metadata": {},
   "outputs": [],
   "source": []
  },
  {
   "cell_type": "code",
   "execution_count": null,
   "id": "bc13340d-9711-428b-82eb-3104c2840477",
   "metadata": {},
   "outputs": [],
   "source": []
  },
  {
   "cell_type": "code",
   "execution_count": null,
   "id": "d2507970-b81d-4d9e-bd8a-b69c92543e5d",
   "metadata": {},
   "outputs": [],
   "source": []
  }
 ],
 "metadata": {
  "kernelspec": {
   "display_name": "Python 3 (ipykernel)",
   "language": "python",
   "name": "python3"
  },
  "language_info": {
   "codemirror_mode": {
    "name": "ipython",
    "version": 3
   },
   "file_extension": ".py",
   "mimetype": "text/x-python",
   "name": "python",
   "nbconvert_exporter": "python",
   "pygments_lexer": "ipython3",
   "version": "3.11.3"
  }
 },
 "nbformat": 4,
 "nbformat_minor": 5
}
