{
 "cells": [
  {
   "cell_type": "markdown",
   "metadata": {
    "deletable": false,
    "editable": false,
    "tags": []
   },
   "source": [
    "### CS 210: Data Management for Data Science\n",
    "#### Fall 2023"
   ]
  },
  {
   "cell_type": "markdown",
   "metadata": {
    "deletable": false,
    "editable": false,
    "tags": []
   },
   "source": [
    "Before you turn this problem in, make sure everything runs as expected. First, **restart the kernel** (in the menubar, select Kernel$\\rightarrow$Restart) and then **run all cells** (in the menubar, select Cell$\\rightarrow$Run All).\n",
    "\n",
    "Make sure you fill in any place that says `YOUR CODE HERE` or \"YOUR ANSWER HERE\", as well as your name and collaborators below:"
   ]
  },
  {
   "cell_type": "code",
   "execution_count": null,
   "metadata": {
    "deletable": false,
    "tags": []
   },
   "outputs": [],
   "source": [
    "NAME = \"Shivam Patel\"\n",
    "COLLABORATORS = \"\""
   ]
  },
  {
   "cell_type": "markdown",
   "metadata": {},
   "source": [
    "---"
   ]
  },
  {
   "cell_type": "markdown",
   "metadata": {
    "deletable": false,
    "editable": false,
    "id": "xGF-CGgpEMsD",
    "nbgrader": {
     "cell_type": "markdown",
     "checksum": "d151e9efb1e10493bac05efdfb2c5355",
     "grade": false,
     "grade_id": "cell-9206d4a6d75031c6",
     "locked": true,
     "schema_version": 3,
     "solution": false,
     "task": false
    },
    "tags": []
   },
   "source": [
    "# **CS 210**: HW2\n",
    "\n",
    "\n",
    "\n",
    "Read the problem descriptions carefully. If you have questions about any of the problems in this assignment, please post them so other students can see.  "
   ]
  },
  {
   "cell_type": "markdown",
   "metadata": {
    "id": "2AnjgNBBMNyu"
   },
   "source": [
    "### Question 1\n",
    "Write a program that reads words from a **filename**, which is given as\n",
    "a string argument. It should **return** the words from the file in a list, sorted in reverse alphabetical order (case insensitive) .\n",
    "\n",
    "For instance, if the file has\n",
    "\n",
    "```\n",
    "bell tea  Zebra\n",
    "apple\n",
    "yellow\n",
    "```\n",
    "\n",
    "Then the output should be\n",
    "\n",
    "`['Zebra', 'yellow', 'tea', 'bell', 'apple']`"
   ]
  },
  {
   "cell_type": "code",
   "execution_count": 4,
   "metadata": {
    "deletable": false,
    "id": "vDeQ8iJ3M1Hh",
    "nbgrader": {
     "cell_type": "code",
     "checksum": "9888c49fb1deeb0f68148718bde7c06f",
     "grade": true,
     "grade_id": "cell-91029b5f4c39aa00",
     "locked": false,
     "points": 0,
     "schema_version": 3,
     "solution": true,
     "task": false
    },
    "tags": []
   },
   "outputs": [],
   "source": [
    "def reverse_sorted_words(filename):\n",
    "    \n",
    "    with open(filename, 'r') as file:\n",
    "        \n",
    "        words = file.read().split()\n",
    "        \n",
    "        words.sort(key = lambda x: x.lower(), reverse = True)\n",
    "        \n",
    "        #print(words)\n",
    "        \n",
    "        return words\n",
    "\n",
    "    # YOUR CODE HERE\n",
    "    raise NotImplementedError()"
   ]
  },
  {
   "cell_type": "markdown",
   "metadata": {
    "deletable": false,
    "editable": false,
    "id": "nozfWlvZsohB",
    "nbgrader": {
     "cell_type": "markdown",
     "checksum": "afda58cfd5b74312a3d0e33c44ceed9b",
     "grade": false,
     "grade_id": "cell-3c0b8d113a01e57d",
     "locked": true,
     "schema_version": 3,
     "solution": false,
     "task": false
    },
    "tags": []
   },
   "source": [
    "Example output for \n",
    "\n",
    "`reverse_sorted_words(\"words.txt\")`\n",
    "\n",
    "```\n",
    "['Zebra', 'whispering', 'visitor', 'utopian', 'thrill', 'ray', 'point', 'Pink', 'pan', 'launch', 'hurry', 'houses', 'frog', 'fang', 'continue', 'buzz', 'Beach', 'ask', 'Apple', 'airport', 'advise', 'activity']\n",
    "```"
   ]
  },
  {
   "cell_type": "code",
   "execution_count": 5,
   "metadata": {
    "colab": {
     "base_uri": "https://localhost:8080/"
    },
    "deletable": false,
    "editable": false,
    "id": "oAHTbEtTsohB",
    "nbgrader": {
     "cell_type": "code",
     "checksum": "d71e6503b6104364f0322e126ea2760b",
     "grade": true,
     "grade_id": "cell-d994a1dde895f631",
     "locked": true,
     "points": 0,
     "schema_version": 3,
     "solution": false,
     "task": false
    },
    "outputId": "69876304-2d11-4e96-8eb4-de0d2207dcb9",
    "tags": []
   },
   "outputs": [],
   "source": [
    "# Use this code block to test your program, please make your own tests too.\n",
    "\n",
    "answer_key = ['whispering', 'visitor', 'utopian', 'Thrill', 'tangible', 'ray', 'point', 'pan', 'launch', 'hurry', 'houses', 'frog', 'five', 'fang', 'continue', 'buzz', 'Ask', 'airport', 'advise', 'activity']\n",
    "rev_words = reverse_sorted_words(\"words.txt\")\n",
    "assert len(answer_key) == len(rev_words)\n",
    "for ans, res in zip(answer_key, rev_words):\n",
    "    # check if each word matches the answer key\n",
    "    assert ans == res"
   ]
  },
  {
   "cell_type": "markdown",
   "metadata": {
    "deletable": false,
    "editable": false,
    "id": "HpL9kJthFFAC",
    "nbgrader": {
     "cell_type": "markdown",
     "checksum": "dd068fe5e92ffd9e3d899218f47a5f6d",
     "grade": false,
     "grade_id": "cell-415636ddddef4f84",
     "locked": true,
     "schema_version": 3,
     "solution": false,
     "task": false
    },
    "tags": []
   },
   "source": [
    "### Question 2\n",
    "\n",
    "Your professor asked your TA to collect student information and store it in a file called **studentInfo.txt**, but this TA spilled Pepsi on the keyboard while entering the data. As a result, there are extra or missing spaces and missing commas throughout the file. For example, the file has\n",
    "\n",
    "```\n",
    "wd50,WillDavidson, 090,3\n",
    "hpj4332, Helen              Jordan1983.88\n",
    "xd222XavierDavies1983.65\n",
    "ad12  AdDavies1983.65\n",
    "```\n",
    "Suppose the file contains netID, name, major, and GPA in that order. Can you help this TA make the file more readable? \n",
    "\n",
    "To accomplish this task, you may assume the following about each field: \n",
    "`netID`: begins with 2-3 lowercase letters followed by 1-4 digits (e.g., wd1, wxo001, tsy1234)\n",
    "`name`: contains both first name and last name with their first letter capitalized (e.g., \"John   Doe\", \"MarySmith\"). There may be zero or more spaces between the first name and last name. \n",
    "`major`: 3-digit code (e.g., 198)\n",
    "`GPA`: floating point number between 0.0 and 4.0 (inclusive). There may or may not be a decimal point (e.g., 3.0 or 3). \n",
    "\n",
    "Write a function called **reformat_student_info** to convert a file into a standard format, which has exactly one comma followed by one space to separate each field. The function should accept a **filename** string parameter. Write the cleaned data to a new file called **studentInfoReformatted.csv** and format the file as follows:\n",
    "\n",
    "`netID, name, major, GPA`\n",
    "\n",
    "There should be exactly one comma followed by one space to separate each field. The name field should include exactly one space between first name and last name, and the GPA should have a decimal even if the GPA from the input file does not (e.g., 3.0 instead of 3). \n",
    "\n",
    "The reformatted file for the sample above should look like this: \n",
    "\n",
    "```\n",
    "wd50, Will Davidson, 090, 3.0\n",
    "hpj4332, Helen Jordan, 198, 3.88\n",
    "xd222, Xavier Davies, 198, 3.65\n",
    "ad12, Ad Davies, 198, 3.65\n",
    "```\n",
    " "
   ]
  },
  {
   "cell_type": "code",
   "execution_count": 190,
   "metadata": {
    "deletable": false,
    "id": "yXBB38YeJ4Ei",
    "nbgrader": {
     "cell_type": "code",
     "checksum": "d693b61bd57f66ae0538556bbd6cc6fe",
     "grade": true,
     "grade_id": "cell-febddcc2fe833c4e",
     "locked": false,
     "points": 0,
     "schema_version": 3,
     "solution": true,
     "task": false
    },
    "tags": []
   },
   "outputs": [],
   "source": [
    "def reformat_student_info(filename):\n",
    "     with open(filename, 'r') as file, open('studentInfoReformatted.txt', 'w') as output:\n",
    "            \n",
    "            for lines in file:\n",
    "                lines = lines.replace(',', '')\n",
    "                lines = lines.replace(' ', '')\n",
    "                netID = ''\n",
    "                name = ''\n",
    "                major = ''\n",
    "                gpa = ''\n",
    "                space = ' '\n",
    "\n",
    "                # Iterate through the characters in the line\n",
    "                i = 0\n",
    "                while i < len(lines):\n",
    "                    char = lines[i]\n",
    "\n",
    "                    if char.isupper():\n",
    "                        break\n",
    "                    netID += char\n",
    "                    i += 1\n",
    "\n",
    "                # Continue iterating to find the end of the name\n",
    "#                 while i < len(lines):\n",
    "#                     char = lines[i]\n",
    "\n",
    "#                     if char.isdigit():\n",
    "#                         break\n",
    "#                     name += char\n",
    "#                     i += 1\n",
    "                first = ''\n",
    "    \n",
    "                while i  < len(lines):\n",
    "                    char = lines[i]\n",
    "                    next_char = lines[i+1]\n",
    "                    \n",
    "                    if next_char.isupper() & (char != next_char):\n",
    "                        first += char\n",
    "                        i+= 1\n",
    "                        break \n",
    "                    first += char\n",
    "                    i+= 1\n",
    "                \n",
    "                last = ''\n",
    "                while i < len(lines):\n",
    "                    char = lines[i]\n",
    "                    \n",
    "                    if char.isdigit():\n",
    "                        break \n",
    "                    last += char\n",
    "                    i+= 1\n",
    "                name = first + ' ' + last\n",
    "                \n",
    "                            \n",
    "                \n",
    "\n",
    "                # Continue iterating to find the major (3 digits)\n",
    "                while i < len(lines):\n",
    "                    char = lines[i]\n",
    "                    if char.isdigit():\n",
    "                        major += char\n",
    "                        if len(major) == 3:\n",
    "                            break\n",
    "                    i += 1\n",
    "\n",
    "                # Continue iterating to find the GPA (floating point number between 0.0 and 4.0)\n",
    "                while i < len(lines):\n",
    "                    char = lines[i]\n",
    "                    if char.isdigit() or char == '.':\n",
    "                        gpa += char\n",
    "                    else:\n",
    "                        break\n",
    "                    i += 1\n",
    "                gpa = f'{float(gpa):.1f}'\n",
    "\n",
    "                output.write(f'{netID}, {name}, {major}, {gpa}\\n')\n",
    "                \n",
    "                #print(f'{netID}, {name}, {major}, {gpa}\\n')\n",
    "      \n",
    "    # YOUR CODE HERE\n",
    "    #raise NotImplementedError()\n"
   ]
  },
  {
   "cell_type": "code",
   "execution_count": 133,
   "metadata": {
    "colab": {
     "base_uri": "https://localhost:8080/"
    },
    "deletable": false,
    "editable": false,
    "id": "x3Mwgks1sohA",
    "nbgrader": {
     "cell_type": "code",
     "checksum": "7e7f016a6cb1ee71b2f93ba9e07183e5",
     "grade": false,
     "grade_id": "cell-23f53a6b736171c5",
     "locked": true,
     "schema_version": 3,
     "solution": false,
     "task": false
    },
    "outputId": "593f2af5-b762-44df-806f-2ab3c9b60aea",
    "tags": []
   },
   "outputs": [
    {
     "name": "stdout",
     "output_type": "stream",
     "text": [
      "ed18,  EdwardDuran, 077, 73.5\n",
      "abc1234,  MikePeterson, 123, 33.7\n",
      "dw0,  DanikaWilson, 083, 33.9\n",
      "wd50,  WillDavidson, 090, 3.0\n",
      "hpj4332,  HelenJordan, 198, 83.9\n",
      "xd222,  XavierDavies, 198, 83.7\n",
      "ah1,  AllissonHenson, 147, 72.9\n",
      "ne099,  NinaEstrada, 095, 52.0\n",
      "sh5555,  SkylarHuff, 112, 23.3\n"
     ]
    }
   ],
   "source": [
    "# Your cleaned file should look like this\n",
    "\n",
    "reformat_student_info('studentInfo.txt')\n",
    "f = open('studentInfoReformatted.txt')\n",
    "for i, line in enumerate(f):\n",
    "    print(line.strip())\n",
    "\n",
    "f.close()"
   ]
  },
  {
   "cell_type": "markdown",
   "metadata": {
    "id": "i67YZCAKsohA"
   },
   "source": [
    "ed18, Edward Duran, 077, 3.5\n",
    "\n",
    "abc1234, Mike Peterson, 123, 3.7\n",
    "\n",
    "dw0, Danika Wilson, 083, 3.9\n",
    "\n",
    "wd50, Will Davidson, 090, 3.0\n",
    "\n",
    "hpj4332, Helen Jordan, 198, 3.88\n",
    "\n",
    "xd222, Xavier Davies, 198, 3.65\n",
    "\n",
    "ah1, Allisson Henson, 147, 2.9\n",
    "\n",
    "ne099, Nina Estrada, 095, 2.0\n",
    "\n",
    "sh5555, Skylar Huff, 112, 3.3"
   ]
  },
  {
   "cell_type": "markdown",
   "metadata": {
    "deletable": false,
    "editable": false,
    "id": "PrjtYI4zdSPU",
    "nbgrader": {
     "cell_type": "markdown",
     "checksum": "09b4c2b75d46d2bc08f5366481d0febb",
     "grade": false,
     "grade_id": "cell-72ec082f27e585df",
     "locked": true,
     "schema_version": 3,
     "solution": false,
     "task": false
    },
    "tags": []
   },
   "source": [
    "### Question 3\n",
    "Write a program that reads words from a file (**filename** given\n",
    "as a string parameter) and prints the occurance of each word(case insensitive). And print the words in **alphabetical** order.\n",
    "\n",
    "For example, if the file contains text\n",
    "\n",
    "\n",
    "\n",
    "```\n",
    "Love is free\n",
    "free is love\n",
    "```\n",
    "\n",
    "\n",
    "\n",
    "then the function should print\n",
    "\n",
    "```\n",
    "free:2\n",
    "is:2\n",
    "love:2\n",
    "```\n",
    "\n"
   ]
  },
  {
   "cell_type": "code",
   "execution_count": 78,
   "metadata": {
    "deletable": false,
    "id": "e5uzN-UrNuSf",
    "nbgrader": {
     "cell_type": "code",
     "checksum": "fc9487e216ba17f342172cb4248a28da",
     "grade": true,
     "grade_id": "cell-e2053a97d07532a1",
     "locked": false,
     "points": 0,
     "schema_version": 3,
     "solution": true,
     "task": false
    },
    "tags": []
   },
   "outputs": [],
   "source": [
    "def count_word(filename):\n",
    "    \n",
    "    counter = {}\n",
    "\n",
    "    with open(filename, 'r') as file:\n",
    "        for lines in file:\n",
    "            words = lines.split()\n",
    "            for word in words:\n",
    "                word = word.lower()\n",
    "                if word in counter:\n",
    "                    counter[word] += 1\n",
    "                else:\n",
    "                    counter[word] = 1\n",
    "\n",
    "    sorted_words = sorted(counter.keys())\n",
    "\n",
    "    for word in sorted_words:\n",
    "        count = counter[word]\n",
    "        print(f\"{word}: {count}\")\n",
    "\n",
    "    # YOUR CODE HERE\n",
    "    \n",
    "    #raise NotImplementedError()"
   ]
  },
  {
   "cell_type": "code",
   "execution_count": 79,
   "metadata": {
    "colab": {
     "base_uri": "https://localhost:8080/"
    },
    "deletable": false,
    "editable": false,
    "id": "7GEsD90JsohB",
    "nbgrader": {
     "cell_type": "code",
     "checksum": "d5c19af09c249e269455a228e6cb1d7a",
     "grade": false,
     "grade_id": "cell-9bad89addb0f4335",
     "locked": true,
     "schema_version": 3,
     "solution": false,
     "task": false
    },
    "outputId": "8af7d23d-6ea4-48b4-f861-5c3e43094718",
    "tags": []
   },
   "outputs": [
    {
     "name": "stdout",
     "output_type": "stream",
     "text": [
      "activity: 1\n",
      "advise: 2\n",
      "airport: 1\n",
      "ask: 1\n",
      "buzz: 5\n",
      "continue: 2\n",
      "fang: 1\n",
      "five: 2\n",
      "frog: 2\n",
      "houses: 3\n",
      "hurry: 3\n",
      "launch: 1\n",
      "pan: 1\n",
      "point: 1\n",
      "ray: 2\n",
      "tangible: 1\n",
      "thrill: 1\n",
      "utopian: 1\n",
      "visitor: 3\n",
      "whispering: 1\n"
     ]
    }
   ],
   "source": [
    "# Your output should look like this\n",
    "count_word('words2.txt')"
   ]
  },
  {
   "cell_type": "markdown",
   "metadata": {
    "id": "HIz2ViaBsohB"
   },
   "source": [
    "```\n",
    "activity: 1\n",
    "advise: 2\n",
    "airport: 1\n",
    "ask: 1\n",
    "buzz: 5\n",
    "continue: 2\n",
    "fang: 1\n",
    "five: 2\n",
    "frog: 2\n",
    "houses: 3\n",
    "hurry: 3\n",
    "launch: 1\n",
    "pan: 1\n",
    "point: 1\n",
    "ray: 2\n",
    "tangible: 1\n",
    "thrill: 1\n",
    "utopian: 1\n",
    "visitor: 3\n",
    "whispering: 1\n",
    "```"
   ]
  },
  {
   "cell_type": "markdown",
   "metadata": {
    "deletable": false,
    "editable": false,
    "id": "Rxoe5iWWhch2",
    "nbgrader": {
     "cell_type": "markdown",
     "checksum": "89724a7700633ba7d171dcd9850bb449",
     "grade": false,
     "grade_id": "cell-0fcbe5bd1d7281d2",
     "locked": true,
     "schema_version": 3,
     "solution": false,
     "task": false
    },
    "tags": []
   },
   "source": [
    "### Question 4\n",
    "\n",
    "Write a program that reads words passing from a string parameter and create a dictionary mapping **last** letters to the number of words **ending** with that letter.\n",
    "\n",
    "For example, the string is `'apple banana orange grape cherry`', the program will\n",
    "out put a dictionary `fruitName` that\n",
    "\n",
    "\n",
    "```\n",
    "print(fruitName)\n",
    "```\n",
    "will give us output\n",
    "\n",
    "```\n",
    "{'e': 3, 'a': 1, 'y': 1}\n",
    "```\n",
    "\n",
    "\n",
    "\n",
    "\n",
    "\n"
   ]
  },
  {
   "cell_type": "code",
   "execution_count": 55,
   "metadata": {
    "deletable": false,
    "id": "pEH1JeHAiNoq",
    "nbgrader": {
     "cell_type": "code",
     "checksum": "324ee3fe988930ce2659c195439c00b4",
     "grade": false,
     "grade_id": "cell-359500c2bf1aa28a",
     "locked": false,
     "schema_version": 3,
     "solution": true,
     "task": false
    },
    "tags": []
   },
   "outputs": [
    {
     "name": "stdout",
     "output_type": "stream",
     "text": [
      "{'e': 3, 'a': 1, 'y': 1}\n"
     ]
    }
   ],
   "source": [
    "def count_last_letter(words):\n",
    "    \n",
    "    counter = {}\n",
    "    words = words.split()\n",
    "\n",
    "    for word in words:\n",
    "        letter = word[-1]\n",
    "        \n",
    "        if letter not in counter:\n",
    "            counter[letter] = 1\n",
    "        else:\n",
    "            counter[letter] += 1\n",
    "            \n",
    "    return counter\n",
    "\n",
    "print(fruitName)\n",
    "\n",
    "\n",
    "    # YOUR CODE HERE\n",
    "    #raise NotImplementedError()\n"
   ]
  },
  {
   "cell_type": "code",
   "execution_count": 52,
   "metadata": {
    "deletable": false,
    "editable": false,
    "id": "-gXLYA_psohB",
    "nbgrader": {
     "cell_type": "code",
     "checksum": "25775606db38c82914e2fe1f3b7f3f3b",
     "grade": true,
     "grade_id": "cell-74040366184943e7",
     "locked": true,
     "points": 0,
     "schema_version": 3,
     "solution": false,
     "task": false
    },
    "tags": []
   },
   "outputs": [],
   "source": [
    "# use this block of code to test your code, note this is just one\n",
    "# testing case, please make your own tests too.\n",
    "\n",
    "d = count_last_letter('apple banana orange grape cherry')\n",
    "\n",
    "assert len(d) == 3\n",
    "assert d['a'] == 1"
   ]
  },
  {
   "cell_type": "markdown",
   "metadata": {
    "deletable": false,
    "editable": false,
    "id": "5ivoSIIzcKTN",
    "nbgrader": {
     "cell_type": "markdown",
     "checksum": "ca85b9a5fd8ec5f89fbb742e9a60042a",
     "grade": false,
     "grade_id": "cell-448853f1730513b1",
     "locked": true,
     "schema_version": 3,
     "solution": false,
     "task": false
    },
    "tags": []
   },
   "source": [
    "### Question 5\n",
    "\n",
    "We can create a numpy array from separate lists by specifying a format for each field:\n",
    "\n",
    "\n",
    "\n",
    "```python\n",
    "roster = np.zeros(4, dtype={'names': ('name', 'age', 'major', 'gpa'),\n",
    "                         'formats': ('U50', 'i4', 'U4', 'f8')})\n",
    "\n",
    "roster['name']  = ['Alice', 'Bob', 'Carol', 'Dennis']\n",
    "roster['age']   = [21, 25, 18, 29]\n",
    "roster['major'] = ['CS', 'Math', 'Chem', 'Phys']\n",
    "roster['gpa']   = [3.8, 3.2, 4.0, 3.5]\n",
    "```\n",
    "where **U50** is a string of max length 50, **i4** is a 4-byte integer,\n",
    "**U4** is a string of max length 4, and **f8** is an 8-byte\n",
    "floating-point number. Then **roster** has value\n",
    "\n",
    "\n",
    "\n",
    "```python\n",
    "array([('Alice', 21, 'CS', 3.8), ('Bob', 25, 'Math', 3.2),\n",
    "  ('Carol', 18, 'Chem', 4. ), ('Dennis', 29, 'Phys', 3.5)],\n",
    "  dtype=[('name', '<U50'), ('age', '<i4'), ('major', '<U4'), ('gpa', '<f8')])\n",
    "```\n",
    "\n",
    "Then, for example, **roster['name']** will give an array of just the\n",
    "student names.\n",
    "\n",
    "Write a program that reads the numpy array **roster** we just created that has this format:\n",
    "\n",
    "`name,age,major,gpa`\n",
    "\n",
    "\n",
    "Convert this to a numpy array as shown above. Then use that array\n",
    "to compute and print each of the following:\n",
    "\n",
    "\n",
    "\n",
    "1.   The average GPA of all students\n",
    "2.   The maximum GPA of students majoring in CS\n",
    "3.   The number of students with a GPA over 3.5\n",
    "4.   The average GPA of students who are at least 25 years old\n",
    "5.   The major that has the highest average GPA among students at most 22 years old\n",
    "\n",
    "For example, for the four students listed, your program should print:\n",
    "\n",
    "```\n",
    "3.625\n",
    "3.8\n",
    "2\n",
    "3.35\n",
    "Chem\n",
    "```\n",
    "\n"
   ]
  },
  {
   "cell_type": "code",
   "execution_count": 75,
   "metadata": {
    "colab": {
     "base_uri": "https://localhost:8080/"
    },
    "deletable": false,
    "id": "QQXOFLNBdtQ-",
    "nbgrader": {
     "cell_type": "code",
     "checksum": "c82779373406f1cb3504c1c603094b6c",
     "grade": true,
     "grade_id": "cell-6098f8cf8de55161",
     "locked": false,
     "points": 0,
     "schema_version": 3,
     "solution": true,
     "task": false
    },
    "outputId": "7ced58a1-14f6-47af-af8c-a21ac0478606",
    "tags": []
   },
   "outputs": [
    {
     "name": "stdout",
     "output_type": "stream",
     "text": [
      "3.625\n",
      "3.8\n",
      "2\n",
      "3.35\n",
      "Chem\n"
     ]
    }
   ],
   "source": [
    "import numpy as np\n",
    "\n",
    "roster = np.zeros(4, dtype={'names': ('name', 'age', 'major', 'gpa'),\n",
    "                         'formats': ('U50', 'i4', 'U4', 'f8')})\n",
    "\n",
    "roster['name']  = ['Alice', 'Bob', 'Carol', 'Dennis']\n",
    "roster['age']   = [21, 25, 18, 29]\n",
    "roster['major'] = ['CS', 'Math', 'Chem', 'Phys']\n",
    "roster['gpa']   = [3.8, 3.2, 4.0, 3.5]\n",
    "\n",
    "#1.   The average GPA of all students\n",
    "avg = np.mean(roster['gpa'])\n",
    "print(avg)\n",
    "\n",
    "#2.   The maximum GPA of students majoring in CS\n",
    "cs = np.max(roster[roster['major'] == 'CS']['gpa'])\n",
    "print(cs)\n",
    "\n",
    "#3.   The number of students with a GPA over 3.5\n",
    "gpa = np.sum(roster['gpa'] > 3.5)\n",
    "print(gpa)\n",
    "\n",
    "#4.   The average GPA of students who are at least 25 years old\n",
    "age = np.mean(roster[roster['age'] >= 25]['gpa'])\n",
    "print(age)\n",
    "\n",
    "#5.   The major that has the highest average GPA among students at most 22 years old\n",
    "major = roster[(roster['age'] <= 22) & (roster['gpa'] == np.max(roster['gpa'][roster['age'] <= 22]))]['major'][0]\n",
    "print(major)\n",
    "\n",
    "# YOUR CODE HERE\n",
    "#raise NotImplementedError()"
   ]
  },
  {
   "cell_type": "code",
   "execution_count": null,
   "metadata": {},
   "outputs": [],
   "source": []
  }
 ],
 "metadata": {
  "colab": {
   "provenance": []
  },
  "kernelspec": {
   "display_name": "Python 3 (ipykernel)",
   "language": "python",
   "name": "python3"
  },
  "language_info": {
   "codemirror_mode": {
    "name": "ipython",
    "version": 3
   },
   "file_extension": ".py",
   "mimetype": "text/x-python",
   "name": "python",
   "nbconvert_exporter": "python",
   "pygments_lexer": "ipython3",
   "version": "3.11.3"
  }
 },
 "nbformat": 4,
 "nbformat_minor": 4
}
