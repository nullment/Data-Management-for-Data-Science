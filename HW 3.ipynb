{
 "cells": [
  {
   "cell_type": "markdown",
   "id": "aa6195bc",
   "metadata": {
    "deletable": false,
    "editable": false,
    "tags": []
   },
   "source": [
    "### CS 210: Data Management for Data Science\n",
    "#### Fall 2023"
   ]
  },
  {
   "cell_type": "markdown",
   "id": "a6ca365a",
   "metadata": {
    "deletable": false,
    "editable": false,
    "tags": []
   },
   "source": [
    "Before you turn this problem in, make sure everything runs as expected. First, **restart the kernel** (in the menubar, select Kernel$\\rightarrow$Restart) and then **run all cells** (in the menubar, select Cell$\\rightarrow$Run All).\n",
    "\n",
    "Make sure you fill in any place that says `YOUR CODE HERE` or \"YOUR ANSWER HERE\", as well as your name and collaborators below:"
   ]
  },
  {
   "cell_type": "code",
   "execution_count": 194,
   "id": "5673b7ff",
   "metadata": {
    "deletable": false,
    "tags": []
   },
   "outputs": [],
   "source": [
    "NAME = \"Shivam Patel\"\n",
    "COLLABORATORS = \"Me Me and Me\""
   ]
  },
  {
   "cell_type": "markdown",
   "id": "2562dc41",
   "metadata": {},
   "source": [
    "---"
   ]
  },
  {
   "cell_type": "markdown",
   "id": "9bdcff0b-68f1-4a80-9f48-8ba76a4b6f9a",
   "metadata": {
    "deletable": false,
    "editable": false,
    "nbgrader": {
     "cell_type": "markdown",
     "checksum": "3fb370ba4eb3a9aab7502a836ada3db0",
     "grade": false,
     "grade_id": "cell-465595980dd3f65b",
     "locked": true,
     "schema_version": 3,
     "solution": false,
     "task": false
    },
    "tags": []
   },
   "source": [
    "## Homework 3: <font color=\"blue\">Movie Recommendations</font>"
   ]
  },
  {
   "cell_type": "markdown",
   "id": "1e6c4fc1-3957-4fbf-a36d-e0d012be22af",
   "metadata": {
    "deletable": false,
    "editable": false,
    "nbgrader": {
     "cell_type": "markdown",
     "checksum": "dadda2c1e909097d3a3637dd3c794d29",
     "grade": false,
     "grade_id": "cell-b693c41e138baaa3",
     "locked": true,
     "schema_version": 3,
     "solution": false,
     "task": false
    },
    "tags": []
   },
   "source": [
    "### Overview\n",
    "In this assignment, you'll implement a prototype movie\n",
    "recommendation program by filling in the function implementations in\n",
    "the given `hw3.py` template file.\n",
    "\n",
    "**Make sure you implement your functions in `hw3.py`**. Do not implement\n",
    "the functions in this notebook. They will be imported here from `hw3.py`, \n",
    "so you can test them directly. \n",
    "\n",
    "You can run your tests on the given input files, but you're\n",
    "encouraged to make your own test files as well, to make sure that\n",
    "you cover the various paths of logic in your functions. You don't\n",
    "have to submit any of your test files.\n",
    "\n",
    "You may assume that all parameter values given to your functions\n",
    "will be valid. Also, in any function that requires the returned\n",
    "values to be sorted or ranked, ties may be broken arbitrarily\n",
    "between equal values.\n",
    "\n",
    "You may assume that input files will be correctly formatted, and\n",
    "data types will be as expected.\n",
    "\n",
    "For all rating computations, do not round up (or otherwise modify)\n",
    "the rating unless otherwise specified."
   ]
  },
  {
   "cell_type": "markdown",
   "id": "44734a13-5712-4ffc-9984-f44c1758f4fc",
   "metadata": {
    "deletable": false,
    "editable": false,
    "nbgrader": {
     "cell_type": "markdown",
     "checksum": "039326c2721e768e63fdff186ab9ebcc",
     "grade": false,
     "grade_id": "cell-fd0cbf28595186e8",
     "locked": true,
     "schema_version": 3,
     "solution": false,
     "task": false
    },
    "tags": []
   },
   "source": [
    "#### Input Files"
   ]
  },
  {
   "cell_type": "markdown",
   "id": "511db07d-64c9-43ea-8c69-212577414d82",
   "metadata": {
    "deletable": false,
    "editable": false,
    "nbgrader": {
     "cell_type": "markdown",
     "checksum": "9bd17e388a941169b098afe259bafb7d",
     "grade": false,
     "grade_id": "cell-c278934e16ba57f5",
     "locked": true,
     "schema_version": 3,
     "solution": false,
     "task": false
    },
    "tags": []
   },
   "source": [
    "**Ratings file**: A text file that contains movie ratings. Each line has the id of the user who rated the movie, the id of the movie, and its rating (range 0-5 inclusive). A movie can have multiple ratings from different users. A user can rate multiple movies but can rate a particular movie only once. \n",
    "\n",
    "**Movies file**: A text file that contains movies and their genres. Each line has a movie id, the name of the movie, the year it was released, and the genre of the movie (e.g, Action, Drama, etc.). \n",
    "\n",
    "There are sample movies and ratings files provided on Codebench. "
   ]
  },
  {
   "cell_type": "markdown",
   "id": "95a6e61b-6aa8-4f55-abde-320372220770",
   "metadata": {
    "deletable": false,
    "editable": false,
    "nbgrader": {
     "cell_type": "markdown",
     "checksum": "cdcc9d6570b3ba3fbef0c3a685ee58ab",
     "grade": false,
     "grade_id": "cell-877c53b263a95c60",
     "locked": true,
     "schema_version": 3,
     "solution": false,
     "task": false
    },
    "tags": []
   },
   "source": [
    "### Part 1: Reading Data"
   ]
  },
  {
   "cell_type": "code",
   "execution_count": 195,
   "id": "fe027c78",
   "metadata": {
    "deletable": false,
    "editable": false,
    "nbgrader": {
     "cell_type": "code",
     "checksum": "710446f79783a399bf39c50f17b7f928",
     "grade": false,
     "grade_id": "cell-73d9bd4b32476d96",
     "locked": true,
     "schema_version": 3,
     "solution": false,
     "task": false
    },
    "tags": []
   },
   "outputs": [],
   "source": [
    "import hw3"
   ]
  },
  {
   "cell_type": "code",
   "execution_count": 196,
   "id": "1b9e855f-a02c-4f5f-9f14-696a8fc7cb04",
   "metadata": {
    "deletable": false,
    "editable": false,
    "nbgrader": {
     "cell_type": "code",
     "checksum": "cbf74e3f9e994057c8e82e06bb0bfcc6",
     "grade": false,
     "grade_id": "cell-036ae118b11b4de8",
     "locked": true,
     "schema_version": 3,
     "solution": false,
     "task": false
    },
    "tags": []
   },
   "outputs": [],
   "source": [
    "from hw3 import read_movies_data, read_ratings_data"
   ]
  },
  {
   "cell_type": "markdown",
   "id": "f2ae89da",
   "metadata": {
    "deletable": false,
    "editable": false,
    "nbgrader": {
     "cell_type": "markdown",
     "checksum": "7faa8eab97a8f4ff90ac089d579159f4",
     "grade": false,
     "grade_id": "cell-f3c0b33e6023a402",
     "locked": true,
     "schema_version": 3,
     "solution": false,
     "task": false
    },
    "tags": []
   },
   "source": [
    "#### 1.1 (8 points) Read Movies File\n",
    "\n",
    "Write a function `read_movies_data(f)` that takes in a movies file and returns a pandas DataFrame, where the index is the movie id and the columns are \"title\", \"year\", and \"genre\" (in that order). \n"
   ]
  },
  {
   "cell_type": "code",
   "execution_count": 197,
   "metadata": {},
   "outputs": [],
   "source": [
    "import pandas as pd\n",
    "def read_movies_data(f):\n",
    "    movies = pd.read_csv(f, sep='|', header=None, names=['title', 'year', 'genre'], index_col= 0)\n",
    "    #movies = movies.set_index('ID')\n",
    "    movies = movies.sort_index(ascending = True)\n",
    "\n",
    "    #movies = movies.drop(columns=['ID'])\n",
    "    #movies.columns = ['title', 'year', 'genre']\n",
    "    #movies.drop('ID', axis=1)\n",
    "    #movies.reset_index(drop=True, inplace=True)\n",
    "    #movies.index += 1\n",
    "    return movies\n",
    "    #print(movies)\n",
    "    pass\n"
   ]
  },
  {
   "cell_type": "code",
   "execution_count": 198,
   "id": "b7fb2073",
   "metadata": {
    "tags": []
   },
   "outputs": [],
   "source": [
    "movies_df = read_movies_data(\"moviesSample.txt\")"
   ]
  },
  {
   "cell_type": "code",
   "execution_count": 199,
   "id": "cc716428",
   "metadata": {
    "deletable": false,
    "editable": false,
    "nbgrader": {
     "cell_type": "code",
     "checksum": "b270b77c931949935cdd7c59dea63983",
     "grade": true,
     "grade_id": "test_read_movies_data",
     "locked": true,
     "points": 8,
     "schema_version": 3,
     "solution": false,
     "task": false
    },
    "tags": []
   },
   "outputs": [],
   "source": [
    "assert movies_df.shape == (9, 3)\n",
    "assert movies_df.iloc[2, 2] == \"Comedy\"\n",
    "assert movies_df.loc[6, \"title\"] == \"Heat\"\n",
    "assert all(movies_df.columns == [\"title\", \"year\", \"genre\"])\n",
    "assert list(movies_df.index) == [1, 2, 3, 4, 5, 6, 8, 9, 10]"
   ]
  },
  {
   "cell_type": "markdown",
   "id": "e951699f-3969-4608-a5eb-7d624099e910",
   "metadata": {
    "deletable": false,
    "editable": false,
    "nbgrader": {
     "cell_type": "markdown",
     "checksum": "1591b2686f9f986de3aca055354df01a",
     "grade": false,
     "grade_id": "cell-bd1595f3b175907c",
     "locked": true,
     "schema_version": 3,
     "solution": false,
     "task": false
    },
    "tags": []
   },
   "source": [
    "#### 1.2 (8 points) Read Ratings File\n",
    "Write a function `read_ratings_data(f)` that takes in a ratings\n",
    "file name and returns a dictionary. The dictionary should have\n",
    "the movie id as key, and the corresponding list of ratings as value."
   ]
  },
  {
   "cell_type": "code",
   "execution_count": 200,
   "metadata": {},
   "outputs": [],
   "source": [
    "def read_ratings_data(f):\n",
    "    ratings_dict = {}\n",
    "    \n",
    "    with open(f, 'r') as file:\n",
    "        for line in file:\n",
    "            user, movie, rating = line.strip().split(',')\n",
    "            movie = int(movie)\n",
    "            rating = float(rating)\n",
    "            \n",
    "            if movie in ratings_dict:\n",
    "                ratings_dict[movie].append(rating)\n",
    "            else:\n",
    "                ratings_dict[movie] = [rating]\n",
    "\n",
    "        \n",
    "\n",
    "    return ratings_dict\n",
    "    #print(ratings_dict)\n",
    "\n",
    "    pass"
   ]
  },
  {
   "cell_type": "code",
   "execution_count": 201,
   "id": "07b71107",
   "metadata": {
    "tags": []
   },
   "outputs": [],
   "source": [
    "movie_ratings = read_ratings_data(\"ratingsSample.csv\")\n"
   ]
  },
  {
   "cell_type": "code",
   "execution_count": 202,
   "id": "7ee2ddaf",
   "metadata": {
    "deletable": false,
    "editable": false,
    "nbgrader": {
     "cell_type": "code",
     "checksum": "3e0a0dfd521b3cd3a74039cae2242fd8",
     "grade": true,
     "grade_id": "test_read_ratings_data",
     "locked": true,
     "points": 8,
     "schema_version": 3,
     "solution": false,
     "task": false
    },
    "tags": []
   },
   "outputs": [],
   "source": [
    "assert sum(movie_ratings[5]) == 24\n"
   ]
  },
  {
   "cell_type": "markdown",
   "id": "1c6103df",
   "metadata": {
    "deletable": false,
    "editable": false,
    "nbgrader": {
     "cell_type": "markdown",
     "checksum": "7078dc6babbcf8facc8dd7b0826c77f0",
     "grade": false,
     "grade_id": "cell-1c5aeade4ac67173",
     "locked": true,
     "schema_version": 3,
     "solution": false,
     "task": false
    },
    "tags": []
   },
   "source": [
    "### Part 2: Processing Data"
   ]
  },
  {
   "cell_type": "code",
   "execution_count": 203,
   "id": "fe8eff6c",
   "metadata": {
    "deletable": false,
    "editable": false,
    "nbgrader": {
     "cell_type": "code",
     "checksum": "885dd1ce8fbbaf2a75354b7a1ef1cff9",
     "grade": false,
     "grade_id": "cell-7c1592a67d11b5af",
     "locked": true,
     "schema_version": 3,
     "solution": false,
     "task": false
    },
    "tags": []
   },
   "outputs": [],
   "source": [
    "from hw3 import get_movie, create_genre_dict, calculate_average_rating"
   ]
  },
  {
   "cell_type": "markdown",
   "id": "b9a15dd0",
   "metadata": {
    "deletable": false,
    "editable": false,
    "nbgrader": {
     "cell_type": "markdown",
     "checksum": "f66b4e1286199e0f334a8dac7297caad",
     "grade": false,
     "grade_id": "cell-4e8eb6a94da2cddf",
     "locked": true,
     "schema_version": 3,
     "solution": false,
     "task": false
    },
    "tags": []
   },
   "source": [
    "#### 2.1 (8 points) Genre Dictionary\n",
    "\n",
    "Write a function `create_genre_dict(df)` which takes a movies DataFrame as a parameter and returns a dictionary with each genre as a key and a list of movie ids as values. \n",
    "\n",
    "Example: \n",
    "```\n",
    "{\n",
    "    \"Adventure\": [1, 2, 8],\n",
    "    \"Comedy\": [3, 4, 5],\n",
    "    \"Action\": [6, 9, 10]\n",
    "}\n",
    "```"
   ]
  },
  {
   "cell_type": "code",
   "execution_count": 204,
   "metadata": {},
   "outputs": [],
   "source": [
    "def create_genre_dict(movies_df):\n",
    "    genre_dict = {}\n",
    "    for i, row in movies_df.iterrows():\n",
    "        genre = row['genre']\n",
    "        movie_id = row.name\n",
    "        if genre in genre_dict:\n",
    "            genre_dict[genre].append(movie_id)\n",
    "        else:\n",
    "            genre_dict[genre] = [movie_id]\n",
    "    return genre_dict\n",
    "    \n",
    "    #print(genre_dict)\n",
    "\n",
    "    pass"
   ]
  },
  {
   "cell_type": "code",
   "execution_count": 205,
   "id": "c8028f40",
   "metadata": {
    "tags": []
   },
   "outputs": [],
   "source": [
    "genre_dict = create_genre_dict(movies_df)"
   ]
  },
  {
   "cell_type": "markdown",
   "id": "adf29750",
   "metadata": {
    "deletable": false,
    "editable": false,
    "nbgrader": {
     "cell_type": "markdown",
     "checksum": "c2e7d0d5ecaa580cf7bd00fa3623d9ab",
     "grade": false,
     "grade_id": "cell-7cee19f0bafd42e5",
     "locked": true,
     "schema_version": 3,
     "solution": false,
     "task": false
    },
    "tags": []
   },
   "source": [
    "#### 2.2 (8 points) Average Rating\n",
    "\n",
    "Write a function `calculate_average_rating` which takes as input a ratings dictionary like that created in Part 1.2 and a movies DataFrame of the kind created in Part 1.1. The function should return a pandas `Series` where the index corresponds to the movie id and the value is the average of all the ratings for the movie. "
   ]
  },
  {
   "cell_type": "code",
   "execution_count": 206,
   "metadata": {},
   "outputs": [],
   "source": [
    "def calculate_average_rating(ratings_dict, movies_df): \n",
    "    average_ratings = pd.Series(index=movies_df.index, dtype=float)\n",
    "    for id, ratings in ratings_dict.items():\n",
    "        if id in average_ratings.index:\n",
    "            average = sum(ratings) / len(ratings)\n",
    "            average_ratings.at[id] = average\n",
    "    #print(average_ratings)\n",
    "    return average_ratings\n",
    "\n",
    "\n",
    "    pass"
   ]
  },
  {
   "cell_type": "code",
   "execution_count": 207,
   "id": "81d8fbf1",
   "metadata": {
    "tags": []
   },
   "outputs": [],
   "source": [
    "avg_ratings = calculate_average_rating(movie_ratings, movies_df)"
   ]
  },
  {
   "cell_type": "code",
   "execution_count": 208,
   "id": "bc6a455b",
   "metadata": {
    "deletable": false,
    "editable": false,
    "nbgrader": {
     "cell_type": "code",
     "checksum": "0219817b3c10e9889f41604a809fd17b",
     "grade": true,
     "grade_id": "test_calculate_average_rating",
     "locked": true,
     "points": 8,
     "schema_version": 3,
     "solution": false,
     "task": false
    },
    "tags": []
   },
   "outputs": [],
   "source": [
    "assert avg_ratings.loc[3] == 4.0"
   ]
  },
  {
   "cell_type": "markdown",
   "id": "f711f6ca",
   "metadata": {
    "deletable": false,
    "editable": false,
    "nbgrader": {
     "cell_type": "markdown",
     "checksum": "db7b4732fa94dffeb7c284341951f173",
     "grade": false,
     "grade_id": "cell-589a57513c964590",
     "locked": true,
     "schema_version": 3,
     "solution": false,
     "task": false
    },
    "tags": []
   },
   "source": [
    "### Part 3: Recommendations"
   ]
  },
  {
   "cell_type": "code",
   "execution_count": 209,
   "id": "40dc99a8",
   "metadata": {
    "deletable": false,
    "editable": false,
    "nbgrader": {
     "cell_type": "code",
     "checksum": "cf04bf5ba08a42b7abb014b59452f97c",
     "grade": false,
     "grade_id": "cell-9d28f719c294994b",
     "locked": true,
     "schema_version": 3,
     "solution": false,
     "task": false
    },
    "tags": []
   },
   "outputs": [],
   "source": [
    "from hw3 import get_popular_movies, filter_movies, get_popular_in_genre\n",
    "from hw3 import get_genre_rating, get_movie_of_the_year"
   ]
  },
  {
   "cell_type": "markdown",
   "id": "9698b46b",
   "metadata": {
    "deletable": false,
    "editable": false,
    "nbgrader": {
     "cell_type": "markdown",
     "checksum": "e0d0fdb215c4968046ca548b0e497f91",
     "grade": false,
     "grade_id": "cell-e81e87a1ef333b02",
     "locked": true,
     "schema_version": 3,
     "solution": false,
     "task": false
    },
    "tags": []
   },
   "source": [
    "#### 3.1 (8 points) Popularity Based\n",
    "\n",
    "In services such as Netflix and Spotify, you often see\n",
    "recommendations with the heading \"Popular movies\" or \"Trending top\n",
    "10\".\n",
    "\n",
    "Write a function `get_popular_movies` that takes as parameters a pandas Series\n",
    "of movie-to-average rating (as created in Part 2.2) and an integer $n$ \n",
    "(default should be 10). \n",
    "The function should return a\n",
    "pandas Series (movie_id:average rating, same structure as input) of top $n$ movies based on the average ratings. If there\n",
    "are fewer than $n$ movies, it should return all movies in order of top\n",
    "average ratings. The Series should be sorted in descending order by average rating. \n",
    "```\n",
    "[In]: get_popular_movies(avg_ratings, 4)\n",
    "[Out]: \n",
    "6    4.250000\n",
    "5    4.000000\n",
    "3    4.000000\n",
    "1    3.833333\n",
    "dtype: float64\n",
    "```"
   ]
  },
  {
   "cell_type": "code",
   "execution_count": 210,
   "metadata": {},
   "outputs": [],
   "source": [
    "def get_popular_movies(avg_ratings, n=10):\n",
    "    sorted_ratings = avg_ratings.sort_values(ascending=False)\n",
    "    return sorted_ratings.head(n)\n",
    "    pass"
   ]
  },
  {
   "cell_type": "code",
   "execution_count": 211,
   "id": "e150d62c",
   "metadata": {
    "tags": []
   },
   "outputs": [
    {
     "data": {
      "text/plain": [
       "6    4.250000\n",
       "3    4.000000\n",
       "5    4.000000\n",
       "1    3.833333\n",
       "dtype: float64"
      ]
     },
     "execution_count": 211,
     "metadata": {},
     "output_type": "execute_result"
    }
   ],
   "source": [
    "get_popular_movies(avg_ratings, 4)"
   ]
  },
  {
   "cell_type": "code",
   "execution_count": 212,
   "id": "d1f8752e",
   "metadata": {
    "deletable": false,
    "editable": false,
    "nbgrader": {
     "cell_type": "code",
     "checksum": "2a66ddac2219139a0693ec1c3541104b",
     "grade": true,
     "grade_id": "test_get_popular_movies",
     "locked": true,
     "points": 8,
     "schema_version": 3,
     "solution": false,
     "task": false
    },
    "tags": []
   },
   "outputs": [],
   "source": [
    "pop_movies = get_popular_movies(avg_ratings, 4)\n",
    "assert pop_movies.is_monotonic_decreasing\n",
    "assert set(pop_movies.index) == {6, 5, 3, 1}"
   ]
  },
  {
   "cell_type": "markdown",
   "id": "cb8e54a3",
   "metadata": {
    "deletable": false,
    "editable": false,
    "nbgrader": {
     "cell_type": "markdown",
     "checksum": "894db58cfc984557807ac1f6bfa2a12c",
     "grade": false,
     "grade_id": "cell-908300b50332ee02",
     "locked": true,
     "schema_version": 3,
     "solution": false,
     "task": false
    },
    "tags": []
   },
   "source": [
    "#### 3.2 (8 point) Threshold Rating\n",
    "\n",
    "Write a function `filter_movies` that takes as parameters a pandas Series of\n",
    "movie-to-average rating (same as for the popularity based\n",
    "function above), and a threshold rating with default value of 3. The\n",
    "function should filter movies based on the threshold rating, and\n",
    "return a dictionary with same structure as the input. For example,\n",
    "if the threshold rating is 3.5, the returned dictionary should have\n",
    "only those movies from the input whose average rating is equal to or\n",
    "greater than 3.5.\n",
    "\n",
    "Example: \n",
    "```\n",
    "[In]: filter_movies(avg_ratings, 3.2)\n",
    "\n",
    "[Out]: \n",
    "1    3.833333\n",
    "2    3.416667\n",
    "3    4.000000\n",
    "5    4.000000\n",
    "6    4.250000\n",
    "9    3.333333\n",
    "dtype: float64\n",
    "```"
   ]
  },
  {
   "cell_type": "code",
   "execution_count": 213,
   "metadata": {},
   "outputs": [],
   "source": [
    "def filter_movies(avg_ratings, thres_rating=3):\n",
    "    return avg_ratings[avg_ratings >= thres_rating]\n",
    "    pass"
   ]
  },
  {
   "cell_type": "code",
   "execution_count": 214,
   "id": "8ed4b6a1",
   "metadata": {
    "tags": []
   },
   "outputs": [
    {
     "data": {
      "text/plain": [
       "1    3.833333\n",
       "2    3.416667\n",
       "3    4.000000\n",
       "5    4.000000\n",
       "6    4.250000\n",
       "9    3.333333\n",
       "dtype: float64"
      ]
     },
     "execution_count": 214,
     "metadata": {},
     "output_type": "execute_result"
    }
   ],
   "source": [
    "filter_movies(avg_ratings, 3.2)"
   ]
  },
  {
   "cell_type": "code",
   "execution_count": 215,
   "id": "b58de2e5",
   "metadata": {
    "deletable": false,
    "editable": false,
    "nbgrader": {
     "cell_type": "code",
     "checksum": "40f2357ce4749ba56b629768f92a3836",
     "grade": true,
     "grade_id": "test_filter_movies",
     "locked": true,
     "points": 8,
     "schema_version": 3,
     "solution": false,
     "task": false
    },
    "tags": []
   },
   "outputs": [],
   "source": [
    "good_movies = filter_movies(avg_ratings, 3.2)\n",
    "assert good_movies.shape[0] == 6\n",
    "assert all(good_movies.values >= 3.2)"
   ]
  },
  {
   "cell_type": "markdown",
   "id": "1d804ec3",
   "metadata": {
    "deletable": false,
    "editable": false,
    "nbgrader": {
     "cell_type": "markdown",
     "checksum": "bbdb3b214e4788f1378b0e840e6d21ab",
     "grade": false,
     "grade_id": "cell-7a9351515303b573",
     "locked": true,
     "schema_version": 3,
     "solution": false,
     "task": false
    },
    "tags": []
   },
   "source": [
    "#### 3.3 (8 points) Popularity & genre based\n",
    "\n",
    "In most recommendation systems, genre of the movie/song/book plays\n",
    "an important role. Often features like popularity, genre, artist are\n",
    "combined to present recommendations to a user.\n",
    "\n",
    "Write a function `get_popular_in_genre` which takes as parameters a genre, a genre-to-movies dictionary (as created in 2.1), a pandas Series of movie-to-average rating (as created in 2.2) and an integer $n$ (default 5), and returns the top $n$ movies for the given genre. The return should be a Series of movie-to-average rating that make the cut, i.e., the same format as the input. If there are fewer than $n$ movies, all movies for the genre are returned, in decreasing order by average rating. \n",
    "```\n",
    "[In]: get_popular_in_genre(\"Adventure\", genre_dict, avg_ratings, 2)\n",
    "[Out]: \n",
    "1    3.833333\n",
    "2    3.416667\n",
    "dtype: float64\n",
    "```"
   ]
  },
  {
   "cell_type": "code",
   "execution_count": 216,
   "metadata": {},
   "outputs": [],
   "source": [
    "def get_popular_in_genre(genre, genre_to_movies, avg_ratings, n=5):\n",
    "    if genre in genre_to_movies:\n",
    "        movies_in_genre = genre_to_movies[genre]\n",
    "        genre_ratings = avg_ratings.loc[movies_in_genre].sort_values(ascending=False)\n",
    "        return genre_ratings.head(n)\n",
    "    pass\n"
   ]
  },
  {
   "cell_type": "code",
   "execution_count": 217,
   "id": "2aea89ad",
   "metadata": {
    "tags": []
   },
   "outputs": [
    {
     "data": {
      "text/plain": [
       "1    3.833333\n",
       "2    3.416667\n",
       "dtype: float64"
      ]
     },
     "execution_count": 217,
     "metadata": {},
     "output_type": "execute_result"
    }
   ],
   "source": [
    "get_popular_in_genre(\"Adventure\", genre_dict, avg_ratings, 2)"
   ]
  },
  {
   "cell_type": "code",
   "execution_count": 218,
   "id": "36eed84c",
   "metadata": {
    "deletable": false,
    "editable": false,
    "nbgrader": {
     "cell_type": "code",
     "checksum": "420fa97d19e81a1fa8e0a8abd342e580",
     "grade": true,
     "grade_id": "test_get_popular_in_genre",
     "locked": true,
     "points": 8,
     "schema_version": 3,
     "solution": false,
     "task": false
    },
    "tags": []
   },
   "outputs": [],
   "source": [
    "pop_in_genre = get_popular_in_genre(\"Adventure\", genre_dict, avg_ratings, 2)\n",
    "assert list(pop_in_genre.index) == [1, 2]\n",
    "assert pop_in_genre.is_monotonic_decreasing"
   ]
  },
  {
   "cell_type": "markdown",
   "id": "39431188",
   "metadata": {
    "deletable": false,
    "editable": false,
    "nbgrader": {
     "cell_type": "markdown",
     "checksum": "78379b5a8dbdec43f6c13953239cdc50",
     "grade": false,
     "grade_id": "cell-3ae6e5278e8ad0bf",
     "locked": true,
     "schema_version": 3,
     "solution": false,
     "task": false
    },
    "tags": []
   },
   "source": [
    "#### 3.4 (8 points) Genre Ratings\n",
    "\n",
    "One important analysis for the content platforms is to determine\n",
    "ratings by genre.\n",
    "\n",
    "Write a function `get_genre_rating` that takes the same parameters as\n",
    "`get_popular_in_genre` above, except for $n$, and returns the average\n",
    "rating of the movies in the given genre.\n",
    "```\n",
    "[In]: get_genre_rating(\"Action\", genre_dict, avg_ratings)\n",
    "[Out]: 3.527777777777778\n",
    "```"
   ]
  },
  {
   "cell_type": "code",
   "execution_count": 219,
   "metadata": {},
   "outputs": [],
   "source": [
    "def get_genre_rating(genre, genre_to_movies, avg_ratings):\n",
    "    if genre in genre_to_movies:\n",
    "        movies = genre_to_movies[genre]\n",
    "        genre_avg_rating = avg_ratings.loc[movies].mean()\n",
    "        return genre_avg_rating\n",
    "    pass"
   ]
  },
  {
   "cell_type": "code",
   "execution_count": 220,
   "id": "33087090",
   "metadata": {
    "tags": []
   },
   "outputs": [
    {
     "data": {
      "text/plain": [
       "3.527777777777778"
      ]
     },
     "execution_count": 220,
     "metadata": {},
     "output_type": "execute_result"
    }
   ],
   "source": [
    "get_genre_rating(\"Action\", genre_dict, avg_ratings)"
   ]
  },
  {
   "cell_type": "code",
   "execution_count": 221,
   "id": "3edc45a0",
   "metadata": {
    "deletable": false,
    "editable": false,
    "nbgrader": {
     "cell_type": "code",
     "checksum": "e420d22e6d4176bf4ad214fb4dabb77c",
     "grade": false,
     "grade_id": "test_get_genre_rating",
     "locked": true,
     "schema_version": 3,
     "solution": false,
     "task": false
    },
    "tags": []
   },
   "outputs": [],
   "source": [
    "genre_rating = get_genre_rating(\"Action\", genre_dict, avg_ratings)\n",
    "assert genre_rating > 3.525\n",
    "assert genre_rating < 3.53"
   ]
  },
  {
   "cell_type": "markdown",
   "id": "a464caec",
   "metadata": {
    "deletable": false,
    "editable": false,
    "nbgrader": {
     "cell_type": "markdown",
     "checksum": "1ee8d04771717f2dc6516a6ea869f014",
     "grade": false,
     "grade_id": "cell-d7b67d5cf396aa40",
     "locked": true,
     "schema_version": 3,
     "solution": false,
     "task": false
    },
    "tags": []
   },
   "source": [
    "#### 3.5 (8 points) Movie of the Year\n",
    "\n",
    "Write a function `get_movie_of_the_year` which takes as parameters a year, a movie-to-average rating Series (as created in 2.2), and a movies DataFrame (as created in 1.1)\n",
    "and returns the title of the movie with the highest average rating \n",
    "for the given year. \n",
    "```\n",
    "[In]: get_movie_of_the_year(1995, avg_ratings, movies_df)\n",
    "[Out]: 'Heat'\n",
    "```"
   ]
  },
  {
   "cell_type": "code",
   "execution_count": 222,
   "metadata": {},
   "outputs": [],
   "source": [
    "def get_movie_of_the_year(year, avg_ratings, movies_df):\n",
    "    #best_movie = movies_df[movies_df['year']==year]\n",
    "    #highest_rating = avg_ratings[(movies_df[movies_df['year']==year]).index].idxmax()\n",
    "    #highest_rating = movies_df.loc[(avg_ratings[(movies_df[movies_df['year']==year]).index].idxmax()), 'title']\n",
    "    return movies_df.loc[(avg_ratings[(movies_df[movies_df['year']==year]).index].idxmax()), 'title']\n",
    "    pass"
   ]
  },
  {
   "cell_type": "code",
   "execution_count": 223,
   "id": "6d32e9f4",
   "metadata": {
    "deletable": false,
    "editable": false,
    "nbgrader": {
     "cell_type": "code",
     "checksum": "07a17bb4bb3c8bd1219fa6b34e274c52",
     "grade": true,
     "grade_id": "test_get_movie_of_the_year",
     "locked": true,
     "points": 8,
     "schema_version": 3,
     "solution": false,
     "task": false
    },
    "tags": []
   },
   "outputs": [],
   "source": [
    "assert get_movie_of_the_year(1995, avg_ratings, movies_df) == 'Heat'"
   ]
  },
  {
   "cell_type": "markdown",
   "id": "5d36ee64",
   "metadata": {
    "deletable": false,
    "editable": false,
    "nbgrader": {
     "cell_type": "markdown",
     "checksum": "3d7e271e2c1491da8b79f3c2be355288",
     "grade": false,
     "grade_id": "cell-bf33d166f3d77961",
     "locked": true,
     "schema_version": 3,
     "solution": false,
     "task": false
    },
    "tags": []
   },
   "source": [
    "### Part 4: User Focused"
   ]
  },
  {
   "cell_type": "code",
   "execution_count": 224,
   "id": "32fc594d",
   "metadata": {
    "deletable": false,
    "editable": false,
    "nbgrader": {
     "cell_type": "code",
     "checksum": "9bb983d006a5849559b020b190e975ce",
     "grade": false,
     "grade_id": "cell-12514b2016ef4847",
     "locked": true,
     "schema_version": 3,
     "solution": false,
     "task": false
    },
    "tags": []
   },
   "outputs": [],
   "source": [
    "from hw3 import read_user_ratings, get_user_genre, recommend_movies"
   ]
  },
  {
   "cell_type": "markdown",
   "id": "cbc0c844",
   "metadata": {
    "deletable": false,
    "editable": false,
    "nbgrader": {
     "cell_type": "markdown",
     "checksum": "70c8aae02f58b99e75a6590377e1fcea",
     "grade": false,
     "grade_id": "cell-a3a6d877fe5bae7f",
     "locked": true,
     "schema_version": 3,
     "solution": false,
     "task": false
    },
    "tags": []
   },
   "source": [
    "#### 4.1 **(8 points) User Ratings**"
   ]
  },
  {
   "cell_type": "markdown",
   "id": "c89f012a",
   "metadata": {
    "deletable": false,
    "editable": false,
    "nbgrader": {
     "cell_type": "markdown",
     "checksum": "24554d106ce639ebe91fb8e68523089c",
     "grade": false,
     "grade_id": "cell-6eb40426e6ecbae7",
     "locked": true,
     "schema_version": 3,
     "solution": false,
     "task": false
    },
    "tags": []
   },
   "source": [
    "Read the ratings file to return a user-to-movies dictionary that maps user ID to the associated movies\n",
    "and the corresponding ratings. Write a function named `read_user_ratings` for this, with the ratings\n",
    "file as the parameter.\n",
    "\n",
    "For example:\n",
    "```\n",
    "{\n",
    "    u1: [(m1, r1), (m2, r2)],\n",
    "    u2: [(m3, r3), (m8, r8)]\n",
    "}\n",
    "```\n",
    "where `u1` is a user ID, `m1` is a movie ID, and `r1` is the corresponding rating. \n",
    "\n"
   ]
  },
  {
   "cell_type": "code",
   "execution_count": 225,
   "metadata": {},
   "outputs": [],
   "source": [
    "def read_user_ratings(f):\n",
    "    user_dict = {}\n",
    "    \n",
    "    with open(f, 'r') as file:\n",
    "        for line in file:\n",
    "            user, movie, rating = line.strip().split(',')\n",
    "            user = int(user)\n",
    "            movie = int(movie)\n",
    "            rating = float(rating)\n",
    "\n",
    "            if user in user_dict:\n",
    "                user_dict[user].append((movie, rating))\n",
    "            else:\n",
    "                user_dict[user] = [(movie, rating)]\n",
    "    \n",
    "    return user_dict\n",
    "\n",
    "    pass"
   ]
  },
  {
   "cell_type": "code",
   "execution_count": 226,
   "id": "e39a0f74",
   "metadata": {
    "tags": []
   },
   "outputs": [],
   "source": [
    "user_movies = read_user_ratings(\"ratingsSample.csv\")"
   ]
  },
  {
   "cell_type": "code",
   "execution_count": 227,
   "id": "52b587d3",
   "metadata": {
    "deletable": false,
    "editable": false,
    "nbgrader": {
     "cell_type": "code",
     "checksum": "d559fcde821fd31e494d8fe583ab1b0e",
     "grade": true,
     "grade_id": "test_read_user_ratings",
     "locked": true,
     "points": 8,
     "schema_version": 3,
     "solution": false,
     "task": false
    },
    "tags": []
   },
   "outputs": [],
   "source": [
    "assert user_movies[42] == [(3, 4.0)]"
   ]
  },
  {
   "cell_type": "markdown",
   "id": "83173a84",
   "metadata": {
    "deletable": false,
    "editable": false,
    "nbgrader": {
     "cell_type": "markdown",
     "checksum": "295ec989645b3c2958c770ddb70a0581",
     "grade": false,
     "grade_id": "cell-9a51d6f053333eda",
     "locked": true,
     "schema_version": 3,
     "solution": false,
     "task": false
    },
    "tags": []
   },
   "source": [
    "#### 4.2 (10 points) User Genre"
   ]
  },
  {
   "cell_type": "markdown",
   "id": "457f9c48",
   "metadata": {
    "deletable": false,
    "editable": false,
    "nbgrader": {
     "cell_type": "markdown",
     "checksum": "f73614bf203fd5a62acf626d2fa24b7e",
     "grade": false,
     "grade_id": "cell-b8be3b67c6cda8b3",
     "locked": true,
     "schema_version": 3,
     "solution": false,
     "task": false
    },
    "tags": []
   },
   "source": [
    "Write a function `get_user_genre` that takes as parameters a user id, the user-to-movies dictionary\n",
    "(as created in Part 4.1 above), and the movies DataFrame (as created in Part 1.1), and returns\n",
    "the top genre that the user likes based on the user’s ratings. Here, the top genre for the user will be\n",
    "determined by taking the average rating of the movies genre-wise that the user has rated. If multiple\n",
    "genres have the same highest ratings for the user, return any one of genres (arbitrarily) as the top\n",
    "genre.\n",
    "\n",
    "```\n",
    "[In]: get_user_genre(6, user_movies, movies_df)\n",
    "[Out]: 'Comedy'\n",
    "```"
   ]
  },
  {
   "cell_type": "code",
   "execution_count": 228,
   "metadata": {},
   "outputs": [],
   "source": [
    "def get_user_genre(user_id, user_to_movies, movies_df):\n",
    "    user_dict = user_to_movies.get(user_id, [])\n",
    "    genre_ratings = {}\n",
    "    avg = {}\n",
    "    \n",
    "    for movie, rating in user_dict:\n",
    "        genre = movies_df.loc[movie, 'genre']\n",
    "        if genre in genre_ratings:\n",
    "            genre_ratings[genre].append(rating)\n",
    "        else:\n",
    "            genre_ratings[genre] = [rating]\n",
    "            \n",
    "    for genre, ratings in genre_ratings.items():\n",
    "        if len(ratings) > 0:\n",
    "            avg_rating = sum(ratings) / len(ratings)\n",
    "    \n",
    "        avg[genre] = avg_rating\n",
    "    return max(avg, key=avg.get)\n",
    "    pass"
   ]
  },
  {
   "cell_type": "code",
   "execution_count": 229,
   "id": "2f3c6c1a",
   "metadata": {
    "tags": []
   },
   "outputs": [
    {
     "data": {
      "text/plain": [
       "'Comedy'"
      ]
     },
     "execution_count": 229,
     "metadata": {},
     "output_type": "execute_result"
    }
   ],
   "source": [
    "get_user_genre(6, user_movies, movies_df)"
   ]
  },
  {
   "cell_type": "code",
   "execution_count": 230,
   "id": "f4480f5a",
   "metadata": {
    "deletable": false,
    "editable": false,
    "nbgrader": {
     "cell_type": "code",
     "checksum": "b2c08ef9d4dd53ab1a5775df64557dbf",
     "grade": true,
     "grade_id": "test_get_user_genre",
     "locked": true,
     "points": 10,
     "schema_version": 3,
     "solution": false,
     "task": false
    },
    "tags": []
   },
   "outputs": [],
   "source": [
    "user_genre = get_user_genre(42, user_movies, movies_df)\n",
    "assert user_genre == \"Comedy\""
   ]
  },
  {
   "cell_type": "markdown",
   "id": "9b168e4a",
   "metadata": {
    "deletable": false,
    "editable": false,
    "nbgrader": {
     "cell_type": "markdown",
     "checksum": "91025ade7c45d177175fd9fe6be4aae0",
     "grade": false,
     "grade_id": "cell-ace7e0dccd2fd6cc",
     "locked": true,
     "schema_version": 3,
     "solution": false,
     "task": false
    },
    "tags": []
   },
   "source": [
    "#### 4.3 (10 points) User Recommendations"
   ]
  },
  {
   "cell_type": "markdown",
   "id": "cb8cb4be",
   "metadata": {
    "deletable": false,
    "editable": false,
    "nbgrader": {
     "cell_type": "markdown",
     "checksum": "507c1deabdda45f74273d1e00cc7a484",
     "grade": false,
     "grade_id": "cell-1cbcb4e0701eb8e5",
     "locked": true,
     "schema_version": 3,
     "solution": false,
     "task": false
    },
    "tags": []
   },
   "source": [
    "Recommend 3 most popular (highest average rating) movies from the user’s top genre that the user\n",
    "has not yet rated. Write a function called `recommend_movies` for this, that takes as parameters a user id,\n",
    "the user-to-movies dictionary (as created in Part 4.1 above), the movies DataFrame (as created\n",
    "in Part 1.1), and the movie-to-average rating Series (as created in Part 2.2). The function should\n",
    "return a pandas Series of movie-to-average rating, sorted in decreasing order by rating. If fewer than 3 movies make the cut, then return all\n",
    "the movies that make the cut in order of top average ratings.\n",
    "```\n",
    "[In]: recommend_movies(6, user_movies, movies_df, avg_ratings)\n",
    "[Out]: \n",
    "3    4.0\n",
    "5    4.0\n",
    "4    2.5\n",
    "Name: avg_ratings, dtype: float64\n",
    "```"
   ]
  },
  {
   "cell_type": "code",
   "execution_count": 231,
   "metadata": {},
   "outputs": [],
   "source": [
    "def recommend_movies(user_id, user_to_movies, movies_df, avg_ratings):\n",
    "    user_genre = get_user_genre(user_id, user_to_movies, movies_df)\n",
    "    print(f\"User {user_id}'s preferred genre: {user_genre}\")\n",
    "\n",
    "    unrated_movies = set(movies_df.index) - set([movie for movie, _ in user_to_movies.get(user_id, [])])\n",
    "\n",
    "    genre_dict = create_genre_dict(movies_df)\n",
    "\n",
    "    unrated_movies_in_genre = [movie for movie in unrated_movies if genre_dict.get(user_genre, []) and movie in genre_dict[user_genre]]\n",
    "\n",
    "    recommended_movies = avg_ratings.loc[unrated_movies_in_genre].sort_values(ascending=False)\n",
    "\n",
    "    print(f\"Recommended movies: {recommended_movies}\")\n",
    "    return recommended_movies\n",
    "    pass"
   ]
  },
  {
   "cell_type": "code",
   "execution_count": 232,
   "id": "46651a3b",
   "metadata": {
    "tags": []
   },
   "outputs": [
    {
     "name": "stdout",
     "output_type": "stream",
     "text": [
      "User 6's preferred genre: Comedy\n",
      "Unrated movies: {1, 9}\n",
      "Unrated movies in Comedy: []\n",
      "Recommended movies: Series([], dtype: float64)\n"
     ]
    },
    {
     "data": {
      "text/plain": [
       "Series([], dtype: float64)"
      ]
     },
     "execution_count": 232,
     "metadata": {},
     "output_type": "execute_result"
    }
   ],
   "source": [
    "recommend_movies(6, user_movies, movies_df, avg_ratings)"
   ]
  }
 ],
 "metadata": {
  "kernelspec": {
   "display_name": "Python 3 (ipykernel)",
   "language": "python",
   "name": "python3"
  },
  "language_info": {
   "codemirror_mode": {
    "name": "ipython",
    "version": 3
   },
   "file_extension": ".py",
   "mimetype": "text/x-python",
   "name": "python",
   "nbconvert_exporter": "python",
   "pygments_lexer": "ipython3",
   "version": "3.11.6"
  }
 },
 "nbformat": 4,
 "nbformat_minor": 5
}
